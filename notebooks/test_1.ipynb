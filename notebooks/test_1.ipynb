{
 "cells": [
  {
   "cell_type": "code",
   "execution_count": 11,
   "id": "13b07318",
   "metadata": {},
   "outputs": [],
   "source": [
    "from IPython.display import Image"
   ]
  },
  {
   "cell_type": "markdown",
   "id": "628c2180",
   "metadata": {},
   "source": [
    "Image recognition / Matching using deepface"
   ]
  },
  {
   "cell_type": "code",
   "execution_count": 20,
   "id": "c4e4edc5",
   "metadata": {},
   "outputs": [],
   "source": [
    "from deepface import DeepFace\n",
    "import pandas as pd\n",
    "import cv2\n"
   ]
  },
  {
   "cell_type": "code",
   "execution_count": 22,
   "id": "3a44cbd7",
   "metadata": {},
   "outputs": [
    {
     "name": "stdout",
     "output_type": "stream",
     "text": [
      "True\n"
     ]
    }
   ],
   "source": [
    "import os\n",
    "print(os.path.exists(r\"d:\\Projects\\Project_4\\EyeDentify\\dataset\\test_images\\ronaldo1.jpeg\"))"
   ]
  },
  {
   "cell_type": "code",
   "execution_count": 32,
   "id": "a23858cb",
   "metadata": {},
   "outputs": [],
   "source": [
    "out1 = DeepFace.verify(\n",
    "    r\"d:\\Projects\\Project_4\\EyeDentify\\dataset\\test_images\\modi1.jpg\",\n",
    "    r\"d:\\Projects\\Project_4\\EyeDentify\\dataset\\test_images\\modi2.jpg\",\n",
    ")"
   ]
  },
  {
   "cell_type": "code",
   "execution_count": 33,
   "id": "db673d12",
   "metadata": {},
   "outputs": [
    {
     "data": {
      "text/plain": [
       "{'verified': True,\n",
       " 'distance': 0.34020885081656704,\n",
       " 'threshold': 0.68,\n",
       " 'model': 'VGG-Face',\n",
       " 'detector_backend': 'opencv',\n",
       " 'similarity_metric': 'cosine',\n",
       " 'facial_areas': {'img1': {'x': 174,\n",
       "   'y': 101,\n",
       "   'w': 182,\n",
       "   'h': 182,\n",
       "   'left_eye': None,\n",
       "   'right_eye': None},\n",
       "  'img2': {'x': 98,\n",
       "   'y': 75,\n",
       "   'w': 232,\n",
       "   'h': 232,\n",
       "   'left_eye': None,\n",
       "   'right_eye': None}},\n",
       " 'time': 1.89}"
      ]
     },
     "execution_count": 33,
     "metadata": {},
     "output_type": "execute_result"
    }
   ],
   "source": [
    "out1"
   ]
  }
 ],
 "metadata": {
  "kernelspec": {
   "display_name": "venv",
   "language": "python",
   "name": "python3"
  },
  "language_info": {
   "codemirror_mode": {
    "name": "ipython",
    "version": 3
   },
   "file_extension": ".py",
   "mimetype": "text/x-python",
   "name": "python",
   "nbconvert_exporter": "python",
   "pygments_lexer": "ipython3",
   "version": "3.12.7"
  }
 },
 "nbformat": 4,
 "nbformat_minor": 5
}
