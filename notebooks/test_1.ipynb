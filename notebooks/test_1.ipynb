{
 "cells": [
  {
   "cell_type": "code",
   "execution_count": 11,
   "id": "13b07318",
   "metadata": {},
   "outputs": [],
   "source": [
    "from IPython.display import Image"
   ]
  },
  {
   "cell_type": "markdown",
   "id": "628c2180",
   "metadata": {},
   "source": [
    "Image recognition / Matching using deepface"
   ]
  },
  {
   "cell_type": "code",
   "execution_count": 20,
   "id": "c4e4edc5",
   "metadata": {},
   "outputs": [],
   "source": [
    "from deepface import DeepFace\n",
    "import pandas as pd\n",
    "import cv2\n"
   ]
  },
  {
   "cell_type": "code",
   "execution_count": 22,
   "id": "3a44cbd7",
   "metadata": {},
   "outputs": [
    {
     "name": "stdout",
     "output_type": "stream",
     "text": [
      "True\n"
     ]
    }
   ],
   "source": [
    "import os\n",
    "print(os.path.exists(r\"d:\\Projects\\Project_4\\EyeDentify\\dataset\\test_images\\ronaldo1.jpeg\"))"
   ]
  },
  {
   "cell_type": "code",
   "execution_count": null,
   "id": "a23858cb",
   "metadata": {},
   "outputs": [],
   "source": [
    "out1 = DeepFace.verify(\n",
    "    r\"d:\\Projects\\Project_4\\EyeDentify\\dataset\\test_images\\modi1.jpeg\",\n",
    "    r\"d:\\Projects\\Project_4\\EyeDentify\\dataset\\test_images\\modi2.jpeg\",\n",
    "    enforce_detection=False\n",
    ")"
   ]
  },
  {
   "cell_type": "code",
   "execution_count": null,
   "id": "fef9e224",
   "metadata": {},
   "outputs": [],
   "source": []
  },
  {
   "cell_type": "code",
   "execution_count": 30,
   "id": "db673d12",
   "metadata": {},
   "outputs": [
    {
     "data": {
      "text/plain": [
       "{'verified': False,\n",
       " 'distance': 0.807937496766725,\n",
       " 'threshold': 0.68,\n",
       " 'model': 'VGG-Face',\n",
       " 'detector_backend': 'opencv',\n",
       " 'similarity_metric': 'cosine',\n",
       " 'facial_areas': {'img1': {'x': 15,\n",
       "   'y': 32,\n",
       "   'w': 181,\n",
       "   'h': 193,\n",
       "   'left_eye': (140, 111),\n",
       "   'right_eye': (74, 109)},\n",
       "  'img2': {'x': 43,\n",
       "   'y': 49,\n",
       "   'w': 108,\n",
       "   'h': 108,\n",
       "   'left_eye': (116, 90),\n",
       "   'right_eye': (75, 92)}},\n",
       " 'time': 5.16}"
      ]
     },
     "execution_count": 30,
     "metadata": {},
     "output_type": "execute_result"
    }
   ],
   "source": [
    "out1"
   ]
  },
  {
   "cell_type": "code",
   "execution_count": null,
   "id": "3fbeccc6",
   "metadata": {},
   "outputs": [],
   "source": []
  }
 ],
 "metadata": {
  "kernelspec": {
   "display_name": "venv",
   "language": "python",
   "name": "python3"
  },
  "language_info": {
   "codemirror_mode": {
    "name": "ipython",
    "version": 3
   },
   "file_extension": ".py",
   "mimetype": "text/x-python",
   "name": "python",
   "nbconvert_exporter": "python",
   "pygments_lexer": "ipython3",
   "version": "3.12.7"
  }
 },
 "nbformat": 4,
 "nbformat_minor": 5
}
